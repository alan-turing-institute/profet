{
 "cells": [
  {
   "attachments": {},
   "cell_type": "markdown",
   "metadata": {},
   "source": [
    "## Running profet\n",
    "\n",
    "Example notebook to run profet using python commands."
   ]
  },
  {
   "cell_type": "code",
   "execution_count": 12,
   "metadata": {},
   "outputs": [],
   "source": [
    "import profet\n",
    "\n",
    "ONLY_ALPHAFOLD = \"F4HvG8\"\n",
    "ONLY_PDB = \"7U6Q\"\n",
    "BOTH = \"A0A023FDY8\""
   ]
  },
  {
   "attachments": {},
   "cell_type": "markdown",
   "metadata": {},
   "source": [
    "Create a default fetcher, and check that the current default database is PDB. This means that, by default, the first search will be on the PDB. However, if the structure is not found, the search will then be executed on the AlphaFold database."
   ]
  },
  {
   "cell_type": "code",
   "execution_count": 4,
   "metadata": {},
   "outputs": [
    {
     "name": "stdout",
     "output_type": "stream",
     "text": [
      "Current default database:  pdb\n"
     ]
    }
   ],
   "source": [
    "fetcher = profet.Fetcher()\n",
    "print('Current default database: ', fetcher.get_default_db())"
   ]
  },
  {
   "attachments": {},
   "cell_type": "markdown",
   "metadata": {},
   "source": [
    "For each of the proteins, check the availability, i.e., check which database has a file for the protein."
   ]
  },
  {
   "cell_type": "code",
   "execution_count": 13,
   "metadata": {},
   "outputs": [
    {
     "name": "stdout",
     "output_type": "stream",
     "text": [
      "Querying RCSB Search using the following parameters:\n",
      " {\"query\": {\"type\": \"terminal\", \"service\": \"full_text\", \"parameters\": {\"value\": \"F4HvG8\"}}, \"request_options\": {\"return_all_hits\": true}, \"return_type\": \"entry\"} \n",
      "\n",
      "Querying RCSB Search using the following parameters:\n",
      " {\"query\": {\"type\": \"terminal\", \"service\": \"full_text\", \"parameters\": {\"value\": \"7U6Q\"}}, \"request_options\": {\"return_all_hits\": true}, \"return_type\": \"entry\"} \n",
      "\n",
      "Querying RCSB Search using the following parameters:\n",
      " {\"query\": {\"type\": \"terminal\", \"service\": \"full_text\", \"parameters\": {\"value\": \"A0A023FDY8\"}}, \"request_options\": {\"return_all_hits\": true}, \"return_type\": \"entry\"} \n",
      "\n",
      "Database available for  F4HvG8  is  ['alphafold']\n",
      "Database available for  7U6Q  is  ['pdb']\n",
      "Databases available for  A0A023FDY8  are  ['pdb', 'alphafold']\n"
     ]
    }
   ],
   "source": [
    "available_only_AF = fetcher.check_db(ONLY_ALPHAFOLD)\n",
    "available_only_pdb = fetcher.check_db(ONLY_PDB)\n",
    "available_both = fetcher.check_db(BOTH)\n",
    "\n",
    "print('Database available for ', ONLY_ALPHAFOLD, ' is ', available_only_AF)\n",
    "print('Database available for ', ONLY_PDB, ' is ', available_only_pdb)\n",
    "print('Databases available for ', BOTH, ' are ', available_both)"
   ]
  },
  {
   "attachments": {},
   "cell_type": "markdown",
   "metadata": {},
   "source": [
    "To get the files, simply run the function `get_file`. "
   ]
  },
  {
   "cell_type": "code",
   "execution_count": 16,
   "metadata": {},
   "outputs": [
    {
     "name": "stdout",
     "output_type": "stream",
     "text": [
      "Querying RCSB Search using the following parameters:\n",
      " {\"query\": {\"type\": \"terminal\", \"service\": \"full_text\", \"parameters\": {\"value\": \"7U6Q\"}}, \"request_options\": {\"return_all_hits\": true}, \"return_type\": \"entry\"} \n",
      "\n",
      "Structure available on defaulted database: pdb\n",
      "Sending GET request to https://files.rcsb.org/download/7U6Q.pdb.gz to fetch 7U6Q's pdb file as a string.\n",
      "Querying RCSB Search using the following parameters:\n",
      " {\"query\": {\"type\": \"terminal\", \"service\": \"full_text\", \"parameters\": {\"value\": \"F4HvG8\"}}, \"request_options\": {\"return_all_hits\": true}, \"return_type\": \"entry\"} \n",
      "\n",
      "Structure available on alternative database: alphafold\n"
     ]
    }
   ],
   "source": [
    "PDB = fetcher.get_file(ONLY_PDB)\n",
    "AF = fetcher.get_file(ONLY_ALPHAFOLD)"
   ]
  },
  {
   "attachments": {},
   "cell_type": "markdown",
   "metadata": {},
   "source": [
    "For cases where the file is available in both databases, the desired one can be specified:"
   ]
  },
  {
   "cell_type": "code",
   "execution_count": 21,
   "metadata": {},
   "outputs": [
    {
     "name": "stdout",
     "output_type": "stream",
     "text": [
      "Querying RCSB Search using the following parameters:\n",
      " {\"query\": {\"type\": \"terminal\", \"service\": \"full_text\", \"parameters\": {\"value\": \"A0A023FDY8\"}}, \"request_options\": {\"return_all_hits\": true}, \"return_type\": \"entry\"} \n",
      "\n",
      "Structure available on defaulted database: pdb\n",
      "Sending GET request to https://files.rcsb.org/download/7S4N.pdb.gz to fetch 7S4N's pdb file as a string.\n",
      "Querying RCSB Search using the following parameters:\n",
      " {\"query\": {\"type\": \"terminal\", \"service\": \"full_text\", \"parameters\": {\"value\": \"A0A023FDY8\"}}, \"request_options\": {\"return_all_hits\": true}, \"return_type\": \"entry\"} \n",
      "\n",
      "Structure available on defaulted database: alphafold\n"
     ]
    }
   ],
   "source": [
    "from_pdb = fetcher.get_file(BOTH)\n",
    "from_AF = fetcher.get_file(BOTH, db = 'alphafold')"
   ]
  },
  {
   "attachments": {},
   "cell_type": "markdown",
   "metadata": {},
   "source": [
    "To save the files locally, set the parameter `filesave` to true."
   ]
  },
  {
   "cell_type": "code",
   "execution_count": 22,
   "metadata": {},
   "outputs": [
    {
     "name": "stdout",
     "output_type": "stream",
     "text": [
      "Querying RCSB Search using the following parameters:\n",
      " {\"query\": {\"type\": \"terminal\", \"service\": \"full_text\", \"parameters\": {\"value\": \"7U6Q\"}}, \"request_options\": {\"return_all_hits\": true}, \"return_type\": \"entry\"} \n",
      "\n",
      "Structure available on defaulted database: pdb\n",
      "Sending GET request to https://files.rcsb.org/download/7U6Q.pdb.gz to fetch 7U6Q's pdb file as a string.\n"
     ]
    }
   ],
   "source": [
    "PDB = fetcher.get_file(ONLY_PDB, filesave = True)"
   ]
  },
  {
   "attachments": {},
   "cell_type": "markdown",
   "metadata": {},
   "source": [
    "The fetcher can also print the search history performed. Each time one protein was searched (and found in a database), it caches the information."
   ]
  },
  {
   "cell_type": "code",
   "execution_count": 24,
   "metadata": {},
   "outputs": [
    {
     "data": {
      "text/plain": [
       "{'7U6Q': ['pdb'], 'F4HvG8': ['alphafold'], 'A0A023FDY8': ['pdb', 'alphafold']}"
      ]
     },
     "execution_count": 24,
     "metadata": {},
     "output_type": "execute_result"
    }
   ],
   "source": [
    "fetcher.search_history()"
   ]
  },
  {
   "cell_type": "code",
   "execution_count": null,
   "metadata": {},
   "outputs": [],
   "source": []
  }
 ],
 "metadata": {
  "kernelspec": {
   "display_name": ".venv",
   "language": "python",
   "name": "python3"
  },
  "language_info": {
   "codemirror_mode": {
    "name": "ipython",
    "version": 3
   },
   "file_extension": ".py",
   "mimetype": "text/x-python",
   "name": "python",
   "nbconvert_exporter": "python",
   "pygments_lexer": "ipython3",
   "version": "3.9.13"
  },
  "orig_nbformat": 4
 },
 "nbformat": 4,
 "nbformat_minor": 2
}
